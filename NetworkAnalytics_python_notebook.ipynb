{
 "cells": [
  {
   "cell_type": "markdown",
   "id": "39819c89",
   "metadata": {
    "ExecuteTime": {
     "end_time": "2022-11-19T22:32:34.300890Z",
     "start_time": "2022-11-19T22:32:34.294086Z"
    }
   },
   "source": [
    "**Authors**: 1. Tridev Parashar (Tridev-Parashar.Parashar@bayes.city.ac.uk)<br>\n",
    "&emsp;&emsp;&emsp;&emsp;&emsp;&nbsp;2. Preeti Pothireddy (Preeti.Pothireddy@bayes.city.ac.uk)<br>&emsp;&emsp;&emsp;&emsp;&emsp;&nbsp;3. Mihir Salunke (Mihir.Salunke@bayes.city.ac.uk)<br>&emsp;&emsp;&emsp;&emsp;&emsp;&nbsp;4. Rajat Sawant (Rajat.Sawant@bayes.city.ac.uk)<br> \n",
    "&emsp;&emsp;&emsp;&emsp;&emsp;&nbsp;5. Elisavet Demetriou (Elisavet.Demetriou@bayes.city.ac.uk)<br>\n",
    " \n",
    "**Synopsis:** This notebook creates Network Analytic Models, which eventually provide insights on how\n",
    "to improve performance of R&D projects of Silico Inc.\n",
    "\n",
    "**Date:** 2022-11-19 22:33:30 \n"
   ]
  },
  {
   "cell_type": "markdown",
   "id": "03af8577",
   "metadata": {
    "ExecuteTime": {
     "end_time": "2022-11-19T22:08:44.021783Z",
     "start_time": "2022-11-19T22:08:44.016800Z"
    }
   },
   "source": [
    "## Importing Libraries"
   ]
  },
  {
   "cell_type": "code",
   "execution_count": 1,
   "id": "f58901be",
   "metadata": {
    "ExecuteTime": {
     "end_time": "2022-11-20T15:26:56.864415Z",
     "start_time": "2022-11-20T15:26:56.844094Z"
    }
   },
   "outputs": [],
   "source": [
    "import networkx as nx\n",
    "import pandas as pd\n",
    "import numpy as np\n",
    "import math\n",
    "from statsmodels.stats.outliers_influence import variance_inflation_factor as vif\n",
    "import statsmodels.formula.api as smf\n",
    "from collections import Counter\n",
    "import warnings\n",
    "from statsmodels.tools.sm_exceptions import ConvergenceWarning\n",
    "warnings.simplefilter('ignore', ConvergenceWarning)"
   ]
  },
  {
   "cell_type": "markdown",
   "id": "e0182373",
   "metadata": {},
   "source": [
    "## Loading Datasets"
   ]
  },
  {
   "cell_type": "code",
   "execution_count": 2,
   "id": "b8a7ab52",
   "metadata": {
    "ExecuteTime": {
     "end_time": "2022-11-20T15:27:00.104918Z",
     "start_time": "2022-11-20T15:26:59.777835Z"
    }
   },
   "outputs": [],
   "source": [
    "UA = nx.read_graphml('ua.graphml')\n",
    "IE = nx.read_graphml('ie.graphml')\n",
    "PA = nx.read_graphml('pa.graphml')\n",
    "PO = pd.read_csv('po.csv')"
   ]
  },
  {
   "cell_type": "markdown",
   "id": "ff3aef4f",
   "metadata": {
    "ExecuteTime": {
     "end_time": "2022-11-19T20:55:58.346716Z",
     "start_time": "2022-11-19T20:55:58.340821Z"
    }
   },
   "source": [
    "## Descriptive Statistics"
   ]
  },
  {
   "cell_type": "code",
   "execution_count": 3,
   "id": "4c78e705",
   "metadata": {
    "ExecuteTime": {
     "end_time": "2022-11-20T15:27:04.224225Z",
     "start_time": "2022-11-20T15:27:04.209196Z"
    },
    "code_folding": [
     0
    ]
   },
   "outputs": [
    {
     "name": "stdout",
     "output_type": "stream",
     "text": [
      "\n",
      "1. Number of Male Employees : 491\n",
      "2. Number of Female Employees : 667\n",
      "3. Average Ti_Exp of Employees : 6\n",
      "4. Average Tenure of Employees : 12\n"
     ]
    }
   ],
   "source": [
    "#Calculating the Count of Males and Females, Average Ti_Exp and Average Tenure in the IE Network:\n",
    "\n",
    "Gender=[i[1]['gender'] for i in list(IE.nodes(data=True))]\n",
    "Ti_Exp=[i[1]['ti_exp'] for i in list(IE.nodes(data=True))]\n",
    "Tenure=[i[1]['tenure'] for i in list(IE.nodes(data=True))]\n",
    "print('\\n1. Number of Male Employees :', Counter(Gender)[1])\n",
    "print('2. Number of Female Employees :', Counter(Gender)[0])\n",
    "print('3. Average Ti_Exp of Employees :', math.ceil(np.mean(Ti_Exp)))\n",
    "print('4. Average Tenure of Employees :', math.ceil(np.mean(Tenure)))"
   ]
  },
  {
   "cell_type": "code",
   "execution_count": 4,
   "id": "5bcdf403",
   "metadata": {
    "ExecuteTime": {
     "end_time": "2022-11-20T15:27:09.675448Z",
     "start_time": "2022-11-20T15:27:09.663057Z"
    },
    "code_folding": [
     0
    ]
   },
   "outputs": [
    {
     "name": "stdout",
     "output_type": "stream",
     "text": [
      "\n",
      "1. Blau Index (Gender): 0.488\n",
      "2. Blau Index (Ti_Exp): 0.874\n",
      "3. Blau Index (Tenure): 0.999\n"
     ]
    }
   ],
   "source": [
    "#Calculating Blau Index to determine network diversity in terms of Gender, Ti_Exp & Tenure:\n",
    "\n",
    "print('\\n1. Blau Index (Gender):', round(1-sum([(value/len(Gender))**2 for key,value in Counter(Gender).items()]),3))\n",
    "print('2. Blau Index (Ti_Exp):', round(1-sum([(value/len(Ti_Exp))**2 for key,value in Counter(Ti_Exp).items()]),3))\n",
    "print('3. Blau Index (Tenure):', round(1-sum([(value/len(Tenure))**2 for key,value in Counter(Tenure).items()]),3))"
   ]
  },
  {
   "cell_type": "code",
   "execution_count": 5,
   "id": "36764153",
   "metadata": {
    "ExecuteTime": {
     "end_time": "2022-11-20T15:27:13.634005Z",
     "start_time": "2022-11-20T15:27:13.581591Z"
    },
    "code_folding": [
     0
    ]
   },
   "outputs": [
    {
     "name": "stdout",
     "output_type": "stream",
     "text": [
      "\n",
      "1. Number of Weak Ties: 5072\n",
      "2. Number of Strong Ties: 3321\n"
     ]
    }
   ],
   "source": [
    "#Calculating the number of Strong and Weak Ties:\n",
    "\n",
    "Ties=[i[2] for i in list(IE.edges(data=True))]\n",
    "print('\\n1. Number of Weak Ties:', Ties.count({'strength': 0}))\n",
    "print('2. Number of Strong Ties:', Ties.count({'strength': 1}))     "
   ]
  },
  {
   "cell_type": "markdown",
   "id": "a4ed2e53",
   "metadata": {
    "ExecuteTime": {
     "end_time": "2022-11-19T22:00:23.012444Z",
     "start_time": "2022-11-19T22:00:23.007803Z"
    }
   },
   "source": [
    "## DataFrame Creation"
   ]
  },
  {
   "cell_type": "code",
   "execution_count": 6,
   "id": "a24f5170",
   "metadata": {
    "ExecuteTime": {
     "end_time": "2022-11-20T15:27:30.940227Z",
     "start_time": "2022-11-20T15:27:18.112569Z"
    },
    "code_folding": []
   },
   "outputs": [],
   "source": [
    "#Step1: Converting IE_Nodes_Data into a DataFrame:\n",
    "\n",
    "Emp_ID=[list(IE.nodes(data=True))[i][0] for i in range(0,1158)]\n",
    "Gender=[(i)[1]['gender'] for i in list(IE.nodes(data=True))]\n",
    "Ti_Exp=[(i)[1]['ti_exp'] for i in list(IE.nodes(data=True))]\n",
    "Tenure=[(i)[1]['tenure'] for i in list(IE.nodes(data=True))]\n",
    "IE_Data_Frame=pd.DataFrame({'Emp_ID':Emp_ID,'Gender':Gender,'Ti_Exp':Ti_Exp,'Tenure':Tenure})\n",
    "\n",
    "#Step2: Calculating Network_Measures at node level:\n",
    "\n",
    "#Degree_centrality\n",
    "Degree_Centrality=pd.DataFrame.from_dict(nx.degree_centrality(IE),orient='index')\n",
    "Degree_Centrality.index.rename('Emp_ID',inplace=True)\n",
    "Degree_Centrality.rename(columns={0:'Degree_Centrality'},inplace=True)\n",
    "\n",
    "#Betweeness_Centrality\n",
    "Betweeness_Centrality=pd.DataFrame.from_dict(nx.betweenness_centrality(IE),orient='index')\n",
    "Betweeness_Centrality.index.rename('Emp_ID',inplace=True)\n",
    "Betweeness_Centrality.rename(columns={0:'Betweeness_Centrality'},inplace=True)\n",
    "\n",
    "\n",
    "#Closeness_Centrality\n",
    "Closeness_Centrality=pd.DataFrame.from_dict(nx.closeness_centrality(IE),orient='index')\n",
    "Closeness_Centrality.index.rename('Emp_ID',inplace=True)\n",
    "Closeness_Centrality.rename(columns={0:'Closeness_Centrality'},inplace=True)\n",
    "\n",
    "IE_Data_Frame=IE_Data_Frame.merge(Degree_Centrality,on='Emp_ID').merge(Betweeness_Centrality,on='Emp_ID').merge(Closeness_Centrality,on='Emp_ID')\n",
    "#IE_Data_Frame"
   ]
  },
  {
   "cell_type": "code",
   "execution_count": 7,
   "id": "5bcc7ef7",
   "metadata": {
    "ExecuteTime": {
     "end_time": "2022-11-20T15:27:33.905892Z",
     "start_time": "2022-11-20T15:27:33.840192Z"
    },
    "code_folding": []
   },
   "outputs": [
    {
     "data": {
      "text/html": [
       "<div>\n",
       "<style scoped>\n",
       "    .dataframe tbody tr th:only-of-type {\n",
       "        vertical-align: middle;\n",
       "    }\n",
       "\n",
       "    .dataframe tbody tr th {\n",
       "        vertical-align: top;\n",
       "    }\n",
       "\n",
       "    .dataframe thead th {\n",
       "        text-align: right;\n",
       "    }\n",
       "</style>\n",
       "<table border=\"1\" class=\"dataframe\">\n",
       "  <thead>\n",
       "    <tr style=\"text-align: right;\">\n",
       "      <th></th>\n",
       "      <th>Emp_ID</th>\n",
       "      <th>Project_ID</th>\n",
       "      <th>Gender</th>\n",
       "      <th>Ti_Exp</th>\n",
       "      <th>Tenure</th>\n",
       "      <th>Degree_Centrality</th>\n",
       "      <th>Betweeness_Centrality</th>\n",
       "      <th>Closeness_Centrality</th>\n",
       "      <th>project_score</th>\n",
       "      <th>patent_application</th>\n",
       "    </tr>\n",
       "  </thead>\n",
       "  <tbody>\n",
       "    <tr>\n",
       "      <th>0</th>\n",
       "      <td>11-1</td>\n",
       "      <td>11-p5</td>\n",
       "      <td>1</td>\n",
       "      <td>8.0</td>\n",
       "      <td>19.043628</td>\n",
       "      <td>0.012965</td>\n",
       "      <td>0.000773</td>\n",
       "      <td>0.243579</td>\n",
       "      <td>54</td>\n",
       "      <td>0</td>\n",
       "    </tr>\n",
       "    <tr>\n",
       "      <th>1</th>\n",
       "      <td>11-64</td>\n",
       "      <td>11-p5</td>\n",
       "      <td>0</td>\n",
       "      <td>11.0</td>\n",
       "      <td>13.490373</td>\n",
       "      <td>0.013829</td>\n",
       "      <td>0.001981</td>\n",
       "      <td>0.241243</td>\n",
       "      <td>54</td>\n",
       "      <td>0</td>\n",
       "    </tr>\n",
       "    <tr>\n",
       "      <th>2</th>\n",
       "      <td>11-22</td>\n",
       "      <td>11-p5</td>\n",
       "      <td>0</td>\n",
       "      <td>4.0</td>\n",
       "      <td>13.763704</td>\n",
       "      <td>0.013829</td>\n",
       "      <td>0.001733</td>\n",
       "      <td>0.222800</td>\n",
       "      <td>54</td>\n",
       "      <td>0</td>\n",
       "    </tr>\n",
       "    <tr>\n",
       "      <th>3</th>\n",
       "      <td>11-32</td>\n",
       "      <td>11-p5</td>\n",
       "      <td>0</td>\n",
       "      <td>2.0</td>\n",
       "      <td>4.758325</td>\n",
       "      <td>0.012965</td>\n",
       "      <td>0.005137</td>\n",
       "      <td>0.237333</td>\n",
       "      <td>54</td>\n",
       "      <td>0</td>\n",
       "    </tr>\n",
       "    <tr>\n",
       "      <th>4</th>\n",
       "      <td>11-35</td>\n",
       "      <td>11-p5</td>\n",
       "      <td>0</td>\n",
       "      <td>0.0</td>\n",
       "      <td>18.410328</td>\n",
       "      <td>0.011236</td>\n",
       "      <td>0.000594</td>\n",
       "      <td>0.219461</td>\n",
       "      <td>54</td>\n",
       "      <td>0</td>\n",
       "    </tr>\n",
       "    <tr>\n",
       "      <th>...</th>\n",
       "      <td>...</td>\n",
       "      <td>...</td>\n",
       "      <td>...</td>\n",
       "      <td>...</td>\n",
       "      <td>...</td>\n",
       "      <td>...</td>\n",
       "      <td>...</td>\n",
       "      <td>...</td>\n",
       "      <td>...</td>\n",
       "      <td>...</td>\n",
       "    </tr>\n",
       "    <tr>\n",
       "      <th>660</th>\n",
       "      <td>3-24</td>\n",
       "      <td>3-p6</td>\n",
       "      <td>0</td>\n",
       "      <td>8.0</td>\n",
       "      <td>13.948475</td>\n",
       "      <td>0.012100</td>\n",
       "      <td>0.000618</td>\n",
       "      <td>0.218426</td>\n",
       "      <td>71</td>\n",
       "      <td>0</td>\n",
       "    </tr>\n",
       "    <tr>\n",
       "      <th>661</th>\n",
       "      <td>3-9</td>\n",
       "      <td>3-p6</td>\n",
       "      <td>0</td>\n",
       "      <td>8.0</td>\n",
       "      <td>2.881731</td>\n",
       "      <td>0.012965</td>\n",
       "      <td>0.002450</td>\n",
       "      <td>0.232003</td>\n",
       "      <td>71</td>\n",
       "      <td>0</td>\n",
       "    </tr>\n",
       "    <tr>\n",
       "      <th>662</th>\n",
       "      <td>3-31</td>\n",
       "      <td>3-p6</td>\n",
       "      <td>1</td>\n",
       "      <td>25.0</td>\n",
       "      <td>12.060524</td>\n",
       "      <td>0.013829</td>\n",
       "      <td>0.010988</td>\n",
       "      <td>0.241142</td>\n",
       "      <td>71</td>\n",
       "      <td>0</td>\n",
       "    </tr>\n",
       "    <tr>\n",
       "      <th>663</th>\n",
       "      <td>3-22</td>\n",
       "      <td>3-p6</td>\n",
       "      <td>0</td>\n",
       "      <td>0.0</td>\n",
       "      <td>19.560133</td>\n",
       "      <td>0.011236</td>\n",
       "      <td>0.000482</td>\n",
       "      <td>0.214220</td>\n",
       "      <td>71</td>\n",
       "      <td>0</td>\n",
       "    </tr>\n",
       "    <tr>\n",
       "      <th>664</th>\n",
       "      <td>3-34</td>\n",
       "      <td>3-p6</td>\n",
       "      <td>1</td>\n",
       "      <td>2.0</td>\n",
       "      <td>10.995551</td>\n",
       "      <td>0.010372</td>\n",
       "      <td>0.000361</td>\n",
       "      <td>0.215256</td>\n",
       "      <td>71</td>\n",
       "      <td>0</td>\n",
       "    </tr>\n",
       "  </tbody>\n",
       "</table>\n",
       "<p>665 rows × 10 columns</p>\n",
       "</div>"
      ],
      "text/plain": [
       "    Emp_ID Project_ID  Gender  Ti_Exp     Tenure  Degree_Centrality  \\\n",
       "0     11-1      11-p5       1     8.0  19.043628           0.012965   \n",
       "1    11-64      11-p5       0    11.0  13.490373           0.013829   \n",
       "2    11-22      11-p5       0     4.0  13.763704           0.013829   \n",
       "3    11-32      11-p5       0     2.0   4.758325           0.012965   \n",
       "4    11-35      11-p5       0     0.0  18.410328           0.011236   \n",
       "..     ...        ...     ...     ...        ...                ...   \n",
       "660   3-24       3-p6       0     8.0  13.948475           0.012100   \n",
       "661    3-9       3-p6       0     8.0   2.881731           0.012965   \n",
       "662   3-31       3-p6       1    25.0  12.060524           0.013829   \n",
       "663   3-22       3-p6       0     0.0  19.560133           0.011236   \n",
       "664   3-34       3-p6       1     2.0  10.995551           0.010372   \n",
       "\n",
       "     Betweeness_Centrality  Closeness_Centrality  project_score  \\\n",
       "0                 0.000773              0.243579             54   \n",
       "1                 0.001981              0.241243             54   \n",
       "2                 0.001733              0.222800             54   \n",
       "3                 0.005137              0.237333             54   \n",
       "4                 0.000594              0.219461             54   \n",
       "..                     ...                   ...            ...   \n",
       "660               0.000618              0.218426             71   \n",
       "661               0.002450              0.232003             71   \n",
       "662               0.010988              0.241142             71   \n",
       "663               0.000482              0.214220             71   \n",
       "664               0.000361              0.215256             71   \n",
       "\n",
       "     patent_application  \n",
       "0                     0  \n",
       "1                     0  \n",
       "2                     0  \n",
       "3                     0  \n",
       "4                     0  \n",
       "..                  ...  \n",
       "660                   0  \n",
       "661                   0  \n",
       "662                   0  \n",
       "663                   0  \n",
       "664                   0  \n",
       "\n",
       "[665 rows x 10 columns]"
      ]
     },
     "execution_count": 7,
     "metadata": {},
     "output_type": "execute_result"
    }
   ],
   "source": [
    "#Step3: Merging IE_Data_Frame with Project level details(PA network and project performance details):\n",
    "\n",
    "PA_Edges=pd.DataFrame.from_dict(list(PA.edges()))\n",
    "PA_Edges.rename(columns={0:'Emp_ID',1:'Project_ID'},inplace=True)\n",
    "PO.rename(columns={'project':'Project_ID'},inplace=True)\n",
    "Final_Df=PA_Edges.merge(IE_Data_Frame,on='Emp_ID').merge(PO,on='Project_ID')\n",
    "Final_Df"
   ]
  },
  {
   "cell_type": "code",
   "execution_count": 8,
   "id": "1a7c89af",
   "metadata": {},
   "outputs": [
    {
     "data": {
      "text/html": [
       "<div>\n",
       "<style scoped>\n",
       "    .dataframe tbody tr th:only-of-type {\n",
       "        vertical-align: middle;\n",
       "    }\n",
       "\n",
       "    .dataframe tbody tr th {\n",
       "        vertical-align: top;\n",
       "    }\n",
       "\n",
       "    .dataframe thead th {\n",
       "        text-align: right;\n",
       "    }\n",
       "</style>\n",
       "<table border=\"1\" class=\"dataframe\">\n",
       "  <thead>\n",
       "    <tr style=\"text-align: right;\">\n",
       "      <th></th>\n",
       "      <th>Gender</th>\n",
       "      <th>Ti_Exp</th>\n",
       "      <th>Tenure</th>\n",
       "      <th>Degree_Centrality</th>\n",
       "      <th>Betweeness_Centrality</th>\n",
       "      <th>Closeness_Centrality</th>\n",
       "      <th>project_score</th>\n",
       "      <th>patent_application</th>\n",
       "    </tr>\n",
       "  </thead>\n",
       "  <tbody>\n",
       "    <tr>\n",
       "      <th>Gender</th>\n",
       "      <td>1.000000</td>\n",
       "      <td>-0.014943</td>\n",
       "      <td>0.059164</td>\n",
       "      <td>0.016830</td>\n",
       "      <td>0.007449</td>\n",
       "      <td>-0.030592</td>\n",
       "      <td>0.022526</td>\n",
       "      <td>-0.014938</td>\n",
       "    </tr>\n",
       "    <tr>\n",
       "      <th>Ti_Exp</th>\n",
       "      <td>-0.014943</td>\n",
       "      <td>1.000000</td>\n",
       "      <td>0.084177</td>\n",
       "      <td>-0.010484</td>\n",
       "      <td>0.005486</td>\n",
       "      <td>0.051221</td>\n",
       "      <td>0.011883</td>\n",
       "      <td>-0.010205</td>\n",
       "    </tr>\n",
       "    <tr>\n",
       "      <th>Tenure</th>\n",
       "      <td>0.059164</td>\n",
       "      <td>0.084177</td>\n",
       "      <td>1.000000</td>\n",
       "      <td>0.071020</td>\n",
       "      <td>0.049108</td>\n",
       "      <td>0.033594</td>\n",
       "      <td>0.002119</td>\n",
       "      <td>-0.005695</td>\n",
       "    </tr>\n",
       "    <tr>\n",
       "      <th>Degree_Centrality</th>\n",
       "      <td>0.016830</td>\n",
       "      <td>-0.010484</td>\n",
       "      <td>0.071020</td>\n",
       "      <td>1.000000</td>\n",
       "      <td>0.612226</td>\n",
       "      <td>0.536351</td>\n",
       "      <td>0.085400</td>\n",
       "      <td>-0.015158</td>\n",
       "    </tr>\n",
       "    <tr>\n",
       "      <th>Betweeness_Centrality</th>\n",
       "      <td>0.007449</td>\n",
       "      <td>0.005486</td>\n",
       "      <td>0.049108</td>\n",
       "      <td>0.612226</td>\n",
       "      <td>1.000000</td>\n",
       "      <td>0.690157</td>\n",
       "      <td>0.183567</td>\n",
       "      <td>0.045625</td>\n",
       "    </tr>\n",
       "    <tr>\n",
       "      <th>Closeness_Centrality</th>\n",
       "      <td>-0.030592</td>\n",
       "      <td>0.051221</td>\n",
       "      <td>0.033594</td>\n",
       "      <td>0.536351</td>\n",
       "      <td>0.690157</td>\n",
       "      <td>1.000000</td>\n",
       "      <td>0.119788</td>\n",
       "      <td>0.009145</td>\n",
       "    </tr>\n",
       "    <tr>\n",
       "      <th>project_score</th>\n",
       "      <td>0.022526</td>\n",
       "      <td>0.011883</td>\n",
       "      <td>0.002119</td>\n",
       "      <td>0.085400</td>\n",
       "      <td>0.183567</td>\n",
       "      <td>0.119788</td>\n",
       "      <td>1.000000</td>\n",
       "      <td>0.052711</td>\n",
       "    </tr>\n",
       "    <tr>\n",
       "      <th>patent_application</th>\n",
       "      <td>-0.014938</td>\n",
       "      <td>-0.010205</td>\n",
       "      <td>-0.005695</td>\n",
       "      <td>-0.015158</td>\n",
       "      <td>0.045625</td>\n",
       "      <td>0.009145</td>\n",
       "      <td>0.052711</td>\n",
       "      <td>1.000000</td>\n",
       "    </tr>\n",
       "  </tbody>\n",
       "</table>\n",
       "</div>"
      ],
      "text/plain": [
       "                         Gender    Ti_Exp    Tenure  Degree_Centrality  \\\n",
       "Gender                 1.000000 -0.014943  0.059164           0.016830   \n",
       "Ti_Exp                -0.014943  1.000000  0.084177          -0.010484   \n",
       "Tenure                 0.059164  0.084177  1.000000           0.071020   \n",
       "Degree_Centrality      0.016830 -0.010484  0.071020           1.000000   \n",
       "Betweeness_Centrality  0.007449  0.005486  0.049108           0.612226   \n",
       "Closeness_Centrality  -0.030592  0.051221  0.033594           0.536351   \n",
       "project_score          0.022526  0.011883  0.002119           0.085400   \n",
       "patent_application    -0.014938 -0.010205 -0.005695          -0.015158   \n",
       "\n",
       "                       Betweeness_Centrality  Closeness_Centrality  \\\n",
       "Gender                              0.007449             -0.030592   \n",
       "Ti_Exp                              0.005486              0.051221   \n",
       "Tenure                              0.049108              0.033594   \n",
       "Degree_Centrality                   0.612226              0.536351   \n",
       "Betweeness_Centrality               1.000000              0.690157   \n",
       "Closeness_Centrality                0.690157              1.000000   \n",
       "project_score                       0.183567              0.119788   \n",
       "patent_application                  0.045625              0.009145   \n",
       "\n",
       "                       project_score  patent_application  \n",
       "Gender                      0.022526           -0.014938  \n",
       "Ti_Exp                      0.011883           -0.010205  \n",
       "Tenure                      0.002119           -0.005695  \n",
       "Degree_Centrality           0.085400           -0.015158  \n",
       "Betweeness_Centrality       0.183567            0.045625  \n",
       "Closeness_Centrality        0.119788            0.009145  \n",
       "project_score               1.000000            0.052711  \n",
       "patent_application          0.052711            1.000000  "
      ]
     },
     "execution_count": 8,
     "metadata": {},
     "output_type": "execute_result"
    }
   ],
   "source": [
    "#Step4: determine correlation between project score & patent application\n",
    "Final_Df.corr()"
   ]
  },
  {
   "cell_type": "code",
   "execution_count": 9,
   "id": "b9fe015c",
   "metadata": {
    "ExecuteTime": {
     "end_time": "2022-11-20T15:27:38.262407Z",
     "start_time": "2022-11-20T15:27:38.181940Z"
    }
   },
   "outputs": [
    {
     "data": {
      "text/html": [
       "<div>\n",
       "<style scoped>\n",
       "    .dataframe tbody tr th:only-of-type {\n",
       "        vertical-align: middle;\n",
       "    }\n",
       "\n",
       "    .dataframe tbody tr th {\n",
       "        vertical-align: top;\n",
       "    }\n",
       "\n",
       "    .dataframe thead th {\n",
       "        text-align: right;\n",
       "    }\n",
       "</style>\n",
       "<table border=\"1\" class=\"dataframe\">\n",
       "  <thead>\n",
       "    <tr style=\"text-align: right;\">\n",
       "      <th></th>\n",
       "      <th>Ti_Exp</th>\n",
       "      <th>Tenure</th>\n",
       "      <th>Degree_Centrality</th>\n",
       "      <th>Betweeness_Centrality</th>\n",
       "      <th>Closeness_Centrality</th>\n",
       "      <th>patent_application</th>\n",
       "      <th>Gender</th>\n",
       "    </tr>\n",
       "    <tr>\n",
       "      <th>Project_ID</th>\n",
       "      <th></th>\n",
       "      <th></th>\n",
       "      <th></th>\n",
       "      <th></th>\n",
       "      <th></th>\n",
       "      <th></th>\n",
       "      <th></th>\n",
       "    </tr>\n",
       "  </thead>\n",
       "  <tbody>\n",
       "    <tr>\n",
       "      <th>0-p0</th>\n",
       "      <td>10.0</td>\n",
       "      <td>15.976054</td>\n",
       "      <td>0.012965</td>\n",
       "      <td>0.002009</td>\n",
       "      <td>0.228160</td>\n",
       "      <td>0.0</td>\n",
       "      <td>1</td>\n",
       "    </tr>\n",
       "    <tr>\n",
       "      <th>0-p1</th>\n",
       "      <td>3.0</td>\n",
       "      <td>12.171597</td>\n",
       "      <td>0.012965</td>\n",
       "      <td>0.001022</td>\n",
       "      <td>0.228837</td>\n",
       "      <td>0.0</td>\n",
       "      <td>0</td>\n",
       "    </tr>\n",
       "    <tr>\n",
       "      <th>0-p2</th>\n",
       "      <td>0.0</td>\n",
       "      <td>12.547671</td>\n",
       "      <td>0.013829</td>\n",
       "      <td>0.004453</td>\n",
       "      <td>0.237528</td>\n",
       "      <td>0.0</td>\n",
       "      <td>1</td>\n",
       "    </tr>\n",
       "    <tr>\n",
       "      <th>0-p3</th>\n",
       "      <td>14.0</td>\n",
       "      <td>11.178196</td>\n",
       "      <td>0.012965</td>\n",
       "      <td>0.001609</td>\n",
       "      <td>0.239594</td>\n",
       "      <td>0.0</td>\n",
       "      <td>1</td>\n",
       "    </tr>\n",
       "    <tr>\n",
       "      <th>0-p4</th>\n",
       "      <td>5.0</td>\n",
       "      <td>11.519989</td>\n",
       "      <td>0.011236</td>\n",
       "      <td>0.000799</td>\n",
       "      <td>0.227353</td>\n",
       "      <td>0.0</td>\n",
       "      <td>0</td>\n",
       "    </tr>\n",
       "    <tr>\n",
       "      <th>...</th>\n",
       "      <td>...</td>\n",
       "      <td>...</td>\n",
       "      <td>...</td>\n",
       "      <td>...</td>\n",
       "      <td>...</td>\n",
       "      <td>...</td>\n",
       "      <td>...</td>\n",
       "    </tr>\n",
       "    <tr>\n",
       "      <th>9-p2</th>\n",
       "      <td>6.0</td>\n",
       "      <td>10.677689</td>\n",
       "      <td>0.012965</td>\n",
       "      <td>0.003601</td>\n",
       "      <td>0.251031</td>\n",
       "      <td>0.0</td>\n",
       "      <td>0</td>\n",
       "    </tr>\n",
       "    <tr>\n",
       "      <th>9-p3</th>\n",
       "      <td>0.0</td>\n",
       "      <td>8.657564</td>\n",
       "      <td>0.012965</td>\n",
       "      <td>0.003206</td>\n",
       "      <td>0.237479</td>\n",
       "      <td>0.0</td>\n",
       "      <td>0</td>\n",
       "    </tr>\n",
       "    <tr>\n",
       "      <th>9-p4</th>\n",
       "      <td>6.0</td>\n",
       "      <td>11.856158</td>\n",
       "      <td>0.012100</td>\n",
       "      <td>0.004440</td>\n",
       "      <td>0.240791</td>\n",
       "      <td>0.0</td>\n",
       "      <td>0</td>\n",
       "    </tr>\n",
       "    <tr>\n",
       "      <th>9-p5</th>\n",
       "      <td>4.0</td>\n",
       "      <td>10.513502</td>\n",
       "      <td>0.012100</td>\n",
       "      <td>0.001770</td>\n",
       "      <td>0.240891</td>\n",
       "      <td>0.0</td>\n",
       "      <td>0</td>\n",
       "    </tr>\n",
       "    <tr>\n",
       "      <th>9-p6</th>\n",
       "      <td>3.0</td>\n",
       "      <td>9.826284</td>\n",
       "      <td>0.012965</td>\n",
       "      <td>0.002390</td>\n",
       "      <td>0.240441</td>\n",
       "      <td>0.0</td>\n",
       "      <td>0</td>\n",
       "    </tr>\n",
       "  </tbody>\n",
       "</table>\n",
       "<p>133 rows × 7 columns</p>\n",
       "</div>"
      ],
      "text/plain": [
       "            Ti_Exp     Tenure  Degree_Centrality  Betweeness_Centrality  \\\n",
       "Project_ID                                                                \n",
       "0-p0          10.0  15.976054           0.012965               0.002009   \n",
       "0-p1           3.0  12.171597           0.012965               0.001022   \n",
       "0-p2           0.0  12.547671           0.013829               0.004453   \n",
       "0-p3          14.0  11.178196           0.012965               0.001609   \n",
       "0-p4           5.0  11.519989           0.011236               0.000799   \n",
       "...            ...        ...                ...                    ...   \n",
       "9-p2           6.0  10.677689           0.012965               0.003601   \n",
       "9-p3           0.0   8.657564           0.012965               0.003206   \n",
       "9-p4           6.0  11.856158           0.012100               0.004440   \n",
       "9-p5           4.0  10.513502           0.012100               0.001770   \n",
       "9-p6           3.0   9.826284           0.012965               0.002390   \n",
       "\n",
       "            Closeness_Centrality  patent_application  Gender  \n",
       "Project_ID                                                    \n",
       "0-p0                    0.228160                 0.0       1  \n",
       "0-p1                    0.228837                 0.0       0  \n",
       "0-p2                    0.237528                 0.0       1  \n",
       "0-p3                    0.239594                 0.0       1  \n",
       "0-p4                    0.227353                 0.0       0  \n",
       "...                          ...                 ...     ...  \n",
       "9-p2                    0.251031                 0.0       0  \n",
       "9-p3                    0.237479                 0.0       0  \n",
       "9-p4                    0.240791                 0.0       0  \n",
       "9-p5                    0.240891                 0.0       0  \n",
       "9-p6                    0.240441                 0.0       0  \n",
       "\n",
       "[133 rows x 7 columns]"
      ]
     },
     "execution_count": 9,
     "metadata": {},
     "output_type": "execute_result"
    }
   ],
   "source": [
    "#Step5: Cleaning Final_Df by dropping project score due to a very low correlation with the KPI in consideration (patent_application):\n",
    "\n",
    "Final_DF = Final_Df.drop('project_score',axis = 1)\n",
    "\n",
    "\n",
    "#Step6: Aggregating node level data to project level using median values (except Gender which has been aggregated using mode):\n",
    "\n",
    "Final_DF= Final_Df.groupby(['Project_ID'])[['Ti_Exp','Tenure','Degree_Centrality','Betweeness_Centrality','Closeness_Centrality','patent_application']].median()\n",
    "Final_DF=Final_DF.merge(Final_Df.groupby(['Project_ID'])[['Gender']].agg(pd.Series.mode),on='Project_ID')\n",
    "Final_DF"
   ]
  },
  {
   "cell_type": "markdown",
   "id": "27c4df6c",
   "metadata": {
    "ExecuteTime": {
     "end_time": "2022-11-19T22:00:35.822971Z",
     "start_time": "2022-11-19T22:00:35.817948Z"
    }
   },
   "source": [
    "## Multinomial Logit Regressions"
   ]
  },
  {
   "cell_type": "code",
   "execution_count": 10,
   "id": "16e6d3e6",
   "metadata": {
    "ExecuteTime": {
     "end_time": "2022-11-20T15:27:41.807603Z",
     "start_time": "2022-11-20T15:27:41.784039Z"
    },
    "code_folding": [
     0
    ]
   },
   "outputs": [
    {
     "data": {
      "text/html": [
       "<div>\n",
       "<style scoped>\n",
       "    .dataframe tbody tr th:only-of-type {\n",
       "        vertical-align: middle;\n",
       "    }\n",
       "\n",
       "    .dataframe tbody tr th {\n",
       "        vertical-align: top;\n",
       "    }\n",
       "\n",
       "    .dataframe thead th {\n",
       "        text-align: right;\n",
       "    }\n",
       "</style>\n",
       "<table border=\"1\" class=\"dataframe\">\n",
       "  <thead>\n",
       "    <tr style=\"text-align: right;\">\n",
       "      <th></th>\n",
       "      <th>Ti_Exp</th>\n",
       "      <th>Tenure</th>\n",
       "      <th>Degree_Centrality</th>\n",
       "      <th>Betweeness_Centrality</th>\n",
       "      <th>Closeness_Centrality</th>\n",
       "      <th>patent_application</th>\n",
       "      <th>Gender</th>\n",
       "    </tr>\n",
       "  </thead>\n",
       "  <tbody>\n",
       "    <tr>\n",
       "      <th>Ti_Exp</th>\n",
       "      <td>1.000000</td>\n",
       "      <td>0.017727</td>\n",
       "      <td>0.132080</td>\n",
       "      <td>-0.049682</td>\n",
       "      <td>0.047990</td>\n",
       "      <td>-0.157921</td>\n",
       "      <td>-0.050511</td>\n",
       "    </tr>\n",
       "    <tr>\n",
       "      <th>Tenure</th>\n",
       "      <td>0.017727</td>\n",
       "      <td>1.000000</td>\n",
       "      <td>0.061753</td>\n",
       "      <td>0.143232</td>\n",
       "      <td>0.003751</td>\n",
       "      <td>0.048562</td>\n",
       "      <td>0.157372</td>\n",
       "    </tr>\n",
       "    <tr>\n",
       "      <th>Degree_Centrality</th>\n",
       "      <td>0.132080</td>\n",
       "      <td>0.061753</td>\n",
       "      <td>1.000000</td>\n",
       "      <td>0.440696</td>\n",
       "      <td>0.339820</td>\n",
       "      <td>-0.130568</td>\n",
       "      <td>0.013966</td>\n",
       "    </tr>\n",
       "    <tr>\n",
       "      <th>Betweeness_Centrality</th>\n",
       "      <td>-0.049682</td>\n",
       "      <td>0.143232</td>\n",
       "      <td>0.440696</td>\n",
       "      <td>1.000000</td>\n",
       "      <td>0.561545</td>\n",
       "      <td>0.118085</td>\n",
       "      <td>0.017268</td>\n",
       "    </tr>\n",
       "    <tr>\n",
       "      <th>Closeness_Centrality</th>\n",
       "      <td>0.047990</td>\n",
       "      <td>0.003751</td>\n",
       "      <td>0.339820</td>\n",
       "      <td>0.561545</td>\n",
       "      <td>1.000000</td>\n",
       "      <td>-0.022945</td>\n",
       "      <td>-0.135711</td>\n",
       "    </tr>\n",
       "    <tr>\n",
       "      <th>patent_application</th>\n",
       "      <td>-0.157921</td>\n",
       "      <td>0.048562</td>\n",
       "      <td>-0.130568</td>\n",
       "      <td>0.118085</td>\n",
       "      <td>-0.022945</td>\n",
       "      <td>1.000000</td>\n",
       "      <td>0.009549</td>\n",
       "    </tr>\n",
       "    <tr>\n",
       "      <th>Gender</th>\n",
       "      <td>-0.050511</td>\n",
       "      <td>0.157372</td>\n",
       "      <td>0.013966</td>\n",
       "      <td>0.017268</td>\n",
       "      <td>-0.135711</td>\n",
       "      <td>0.009549</td>\n",
       "      <td>1.000000</td>\n",
       "    </tr>\n",
       "  </tbody>\n",
       "</table>\n",
       "</div>"
      ],
      "text/plain": [
       "                         Ti_Exp    Tenure  Degree_Centrality  \\\n",
       "Ti_Exp                 1.000000  0.017727           0.132080   \n",
       "Tenure                 0.017727  1.000000           0.061753   \n",
       "Degree_Centrality      0.132080  0.061753           1.000000   \n",
       "Betweeness_Centrality -0.049682  0.143232           0.440696   \n",
       "Closeness_Centrality   0.047990  0.003751           0.339820   \n",
       "patent_application    -0.157921  0.048562          -0.130568   \n",
       "Gender                -0.050511  0.157372           0.013966   \n",
       "\n",
       "                       Betweeness_Centrality  Closeness_Centrality  \\\n",
       "Ti_Exp                             -0.049682              0.047990   \n",
       "Tenure                              0.143232              0.003751   \n",
       "Degree_Centrality                   0.440696              0.339820   \n",
       "Betweeness_Centrality               1.000000              0.561545   \n",
       "Closeness_Centrality                0.561545              1.000000   \n",
       "patent_application                  0.118085             -0.022945   \n",
       "Gender                              0.017268             -0.135711   \n",
       "\n",
       "                       patent_application    Gender  \n",
       "Ti_Exp                          -0.157921 -0.050511  \n",
       "Tenure                           0.048562  0.157372  \n",
       "Degree_Centrality               -0.130568  0.013966  \n",
       "Betweeness_Centrality            0.118085  0.017268  \n",
       "Closeness_Centrality            -0.022945 -0.135711  \n",
       "patent_application               1.000000  0.009549  \n",
       "Gender                           0.009549  1.000000  "
      ]
     },
     "execution_count": 10,
     "metadata": {},
     "output_type": "execute_result"
    }
   ],
   "source": [
    "#step7:Checking Correlation of the final dataframe before running regressions :\n",
    "Final_DF.corr()"
   ]
  },
  {
   "cell_type": "code",
   "execution_count": 11,
   "id": "c1a854e4",
   "metadata": {
    "ExecuteTime": {
     "end_time": "2022-11-20T15:27:44.048779Z",
     "start_time": "2022-11-20T15:27:43.983630Z"
    },
    "code_folding": [
     0
    ]
   },
   "outputs": [
    {
     "name": "stdout",
     "output_type": "stream",
     "text": [
      "                 Feature       VIF\n",
      "0  Betweeness_Centrality  1.602618\n",
      "1                 Ti_Exp  1.602618\n",
      "\n",
      "\n",
      "             Feature       VIF\n",
      "0  Degree_Centrality  2.665205\n",
      "1             Ti_Exp  2.665205\n",
      "\n",
      "\n",
      "                Feature       VIF\n",
      "0  Closeness_Centrality  2.635904\n",
      "1                Ti_Exp  2.635904\n"
     ]
    }
   ],
   "source": [
    "#step8: checking for multi collinearity Using variance inflation factor(vif)\n",
    "\n",
    "#Calculated VIF for Final_DF[['Betweeness_Centrality', 'Ti_Exp','Gender','Tenure']] and removed Tenure & Gender due to high collinearity\n",
    "\n",
    "X1 = Final_DF[['Betweeness_Centrality', 'Ti_Exp']] \n",
    "vif_data1 = pd.DataFrame()\n",
    "vif_data1[\"Feature\"] = X1.columns\n",
    "vif_data1[\"VIF\"] = [vif(X1.values,i)for i in range(len(X1.columns))]\n",
    "print(vif_data1);print('\\n')\n",
    "\n",
    "#Calculated VIF for Final_DF[['Degree_Centrality', 'Ti_Exp','Gender','Tenure']] and removed Tenure & Gender due to high collinearity\n",
    "\n",
    "X2 = Final_DF[['Degree_Centrality', 'Ti_Exp']] \n",
    "vif_data2 = pd.DataFrame()\n",
    "vif_data2[\"Feature\"] = X2.columns\n",
    "vif_data2[\"VIF\"] = [vif(X2.values,i)for i in range(len(X2.columns))]\n",
    "print(vif_data2);print('\\n')\n",
    "\n",
    "#Calculated VIF for Final_DF[['Closeness_Centrality', 'Ti_Exp','Gender','Tenure']] and removed Tenure & Gender due to high collinearity\n",
    "\n",
    "X3 = Final_DF[['Closeness_Centrality', 'Ti_Exp']] \n",
    "vif_data3 = pd.DataFrame()\n",
    "vif_data3[\"Feature\"] = X3.columns\n",
    "vif_data3[\"VIF\"] = [vif(X3.values,i)for i in range(len(X3.columns))]\n",
    "print(vif_data3)\n"
   ]
  },
  {
   "cell_type": "markdown",
   "id": "895a9b95",
   "metadata": {
    "ExecuteTime": {
     "end_time": "2022-11-20T14:07:28.878975Z",
     "start_time": "2022-11-20T14:07:28.872026Z"
    }
   },
   "source": [
    "### Model 1 - Regression summary and odds ratio"
   ]
  },
  {
   "cell_type": "code",
   "execution_count": 14,
   "id": "9f34aaa7",
   "metadata": {
    "ExecuteTime": {
     "end_time": "2022-11-20T15:27:47.108672Z",
     "start_time": "2022-11-20T15:27:47.052769Z"
    },
    "code_folding": []
   },
   "outputs": [
    {
     "name": "stdout",
     "output_type": "stream",
     "text": [
      "Optimization terminated successfully.\n",
      "         Current function value: 0.428710\n",
      "         Iterations 7\n",
      "                           Logit Regression Results                           \n",
      "==============================================================================\n",
      "Dep. Variable:     patent_application   No. Observations:                  133\n",
      "Model:                          Logit   Df Residuals:                      130\n",
      "Method:                           MLE   Df Model:                            2\n",
      "Date:                Mon, 21 Nov 2022   Pseudo R-squ.:                 0.04421\n",
      "Time:                        14:14:54   Log-Likelihood:                -57.018\n",
      "converged:                       True   LL-Null:                       -59.656\n",
      "Covariance Type:            nonrobust   LLR p-value:                   0.07156\n",
      "=====================================================================================\n",
      "                        coef    std err          z      P>|z|      [0.025      0.975]\n",
      "-------------------------------------------------------------------------------------\n",
      "Intercept             4.5855      4.594      0.998      0.318      -4.418      13.589\n",
      "Degree_Centrality  -456.9068    373.036     -1.225      0.221   -1188.045     274.231\n",
      "Ti_Exp               -0.1329      0.082     -1.613      0.107      -0.294       0.029\n",
      "=====================================================================================\n"
     ]
    }
   ],
   "source": [
    "#Model: patent_application ~ Degree_Centrality + Ti_Exp \n",
    "\n",
    "log_reg1 = smf.logit(\"patent_application ~ Degree_Centrality+Ti_Exp\", data = Final_DF).fit() \n",
    "print(log_reg1.summary())"
   ]
  },
  {
   "cell_type": "code",
   "execution_count": 15,
   "id": "72604229",
   "metadata": {
    "ExecuteTime": {
     "end_time": "2022-11-20T17:20:28.621710Z",
     "start_time": "2022-11-20T17:20:28.601089Z"
    }
   },
   "outputs": [
    {
     "name": "stdout",
     "output_type": "stream",
     "text": [
      "                              OR  Lower CI       Upper CI\n",
      "Intercept           9.804851e+01  0.012062   7.970259e+05\n",
      "Degree_Centrality  3.697417e-199  0.000000  1.250413e+119\n",
      "Ti_Exp              8.755514e-01  0.744955   1.029042e+00\n"
     ]
    }
   ],
   "source": [
    "#Determining the odds of generating patent application using degree centrality as a independent variable:\n",
    "\n",
    "odds_ratios1 = pd.DataFrame(\n",
    "    {\n",
    "        \"OR\": log_reg1.params,\n",
    "        \"Lower CI\": log_reg1.conf_int()[0],\n",
    "        \"Upper CI\": log_reg1.conf_int()[1],\n",
    "    }\n",
    ")\n",
    "odds_ratios1 = np.exp(odds_ratios1)\n",
    "print(odds_ratios1)"
   ]
  },
  {
   "cell_type": "markdown",
   "id": "8d60ae46",
   "metadata": {},
   "source": [
    "### Model 2 - Regression summary and odds ratio"
   ]
  },
  {
   "cell_type": "code",
   "execution_count": 16,
   "id": "9efcae07",
   "metadata": {
    "ExecuteTime": {
     "end_time": "2022-11-20T15:27:48.932090Z",
     "start_time": "2022-11-20T15:27:48.871097Z"
    },
    "code_folding": []
   },
   "outputs": [
    {
     "name": "stdout",
     "output_type": "stream",
     "text": [
      "Optimization terminated successfully.\n",
      "         Current function value: 0.434436\n",
      "         Iterations 6\n",
      "                           Logit Regression Results                           \n",
      "==============================================================================\n",
      "Dep. Variable:     patent_application   No. Observations:                  133\n",
      "Model:                          Logit   Df Residuals:                      130\n",
      "Method:                           MLE   Df Model:                            2\n",
      "Date:                Mon, 21 Nov 2022   Pseudo R-squ.:                 0.03144\n",
      "Time:                        14:14:59   Log-Likelihood:                -57.780\n",
      "converged:                       True   LL-Null:                       -59.656\n",
      "Covariance Type:            nonrobust   LLR p-value:                    0.1533\n",
      "========================================================================================\n",
      "                           coef    std err          z      P>|z|      [0.025      0.975]\n",
      "----------------------------------------------------------------------------------------\n",
      "Intercept                0.5659      7.289      0.078      0.938     -13.719      14.851\n",
      "Closeness_Centrality    -6.9616     31.346     -0.222      0.824     -68.398      54.475\n",
      "Ti_Exp                  -0.1468      0.082     -1.793      0.073      -0.307       0.014\n",
      "========================================================================================\n"
     ]
    }
   ],
   "source": [
    "#Model: patent_application ~ Closeness_Centrality + Ti_Exp \n",
    "\n",
    "log_reg2 = smf.logit(\"patent_application ~ Closeness_Centrality+Ti_Exp\", data = Final_DF).fit() \n",
    "print(log_reg2.summary())"
   ]
  },
  {
   "cell_type": "code",
   "execution_count": 17,
   "id": "ec56751f",
   "metadata": {
    "ExecuteTime": {
     "end_time": "2022-11-20T17:21:41.147130Z",
     "start_time": "2022-11-20T17:21:41.124493Z"
    }
   },
   "outputs": [
    {
     "name": "stdout",
     "output_type": "stream",
     "text": [
      "                            OR      Lower CI      Upper CI\n",
      "Intercept             1.760947  1.100776e-06  2.817044e+06\n",
      "Closeness_Centrality  0.000948  1.973168e-30  4.550637e+23\n",
      "Ti_Exp                0.863447  7.353966e-01  1.013793e+00\n"
     ]
    }
   ],
   "source": [
    "#Determining the odds of generating patent application using Closeness centrality as a independent variable:\n",
    "\n",
    "odds_ratios2 = pd.DataFrame(\n",
    "    {\n",
    "        \"OR\": log_reg2.params,\n",
    "        \"Lower CI\": log_reg2.conf_int()[0],\n",
    "        \"Upper CI\": log_reg2.conf_int()[1],\n",
    "    }\n",
    ")\n",
    "odds_ratios2 = np.exp(odds_ratios2)\n",
    "print(odds_ratios2)"
   ]
  },
  {
   "cell_type": "markdown",
   "id": "f164f694",
   "metadata": {
    "ExecuteTime": {
     "end_time": "2022-11-20T14:09:46.018303Z",
     "start_time": "2022-11-20T14:09:46.013077Z"
    }
   },
   "source": [
    "### Model 3 - Regression summary and odds ratio"
   ]
  },
  {
   "cell_type": "code",
   "execution_count": 18,
   "id": "c344debe",
   "metadata": {
    "ExecuteTime": {
     "end_time": "2022-11-20T15:27:51.026054Z",
     "start_time": "2022-11-20T15:27:50.981806Z"
    }
   },
   "outputs": [
    {
     "name": "stdout",
     "output_type": "stream",
     "text": [
      "Optimization terminated successfully.\n",
      "         Current function value: 0.429111\n",
      "         Iterations 7\n",
      "                           Logit Regression Results                           \n",
      "==============================================================================\n",
      "Dep. Variable:     patent_application   No. Observations:                  133\n",
      "Model:                          Logit   Df Residuals:                      130\n",
      "Method:                           MLE   Df Model:                            2\n",
      "Date:                Mon, 21 Nov 2022   Pseudo R-squ.:                 0.04331\n",
      "Time:                        14:15:09   Log-Likelihood:                -57.072\n",
      "converged:                       True   LL-Null:                       -59.656\n",
      "Covariance Type:            nonrobust   LLR p-value:                   0.07548\n",
      "=========================================================================================\n",
      "                            coef    std err          z      P>|z|      [0.025      0.975]\n",
      "-----------------------------------------------------------------------------------------\n",
      "Intercept                -1.4521      0.500     -2.902      0.004      -2.433      -0.471\n",
      "Betweeness_Centrality   173.0646    140.504      1.232      0.218    -102.317     448.446\n",
      "Ti_Exp                   -0.1419      0.082     -1.737      0.082      -0.302       0.018\n",
      "=========================================================================================\n"
     ]
    }
   ],
   "source": [
    "#Model: patent_application ~ Betweeness_Centrality + Ti_Exp  \n",
    "\n",
    "log_reg3 = smf.logit(\"patent_application ~ Betweeness_Centrality+Ti_Exp\", data = Final_DF).fit() \n",
    "print(log_reg3.summary())"
   ]
  },
  {
   "cell_type": "code",
   "execution_count": 19,
   "id": "d40558e2",
   "metadata": {
    "ExecuteTime": {
     "end_time": "2022-11-20T17:22:07.849102Z",
     "start_time": "2022-11-20T17:22:07.815515Z"
    }
   },
   "outputs": [
    {
     "name": "stdout",
     "output_type": "stream",
     "text": [
      "                                 OR      Lower CI       Upper CI\n",
      "Intercept              2.340756e-01  8.778828e-02   6.241312e-01\n",
      "Betweeness_Centrality  1.448715e+75  3.665683e-45  5.725471e+194\n",
      "Ti_Exp                 8.677203e-01  7.393777e-01   1.018341e+00\n"
     ]
    }
   ],
   "source": [
    "#Determining the odds of generating patent application using Betweeness centrality as a independent variable:\n",
    "\n",
    "odds_ratios3 = pd.DataFrame(\n",
    "    {\n",
    "        \"OR\": log_reg3.params,\n",
    "        \"Lower CI\": log_reg3.conf_int()[0],\n",
    "        \"Upper CI\": log_reg3.conf_int()[1],\n",
    "    }\n",
    ")\n",
    "odds_ratios3 = np.exp(odds_ratios3)\n",
    "print(odds_ratios3)"
   ]
  },
  {
   "cell_type": "code",
   "execution_count": null,
   "id": "9e5e8037",
   "metadata": {},
   "outputs": [],
   "source": []
  },
  {
   "cell_type": "code",
   "execution_count": null,
   "id": "d4129303",
   "metadata": {},
   "outputs": [],
   "source": []
  }
 ],
 "metadata": {
  "kernelspec": {
   "display_name": "Python 3 (ipykernel)",
   "language": "python",
   "name": "python3"
  },
  "language_info": {
   "codemirror_mode": {
    "name": "ipython",
    "version": 3
   },
   "file_extension": ".py",
   "mimetype": "text/x-python",
   "name": "python",
   "nbconvert_exporter": "python",
   "pygments_lexer": "ipython3",
   "version": "3.9.13"
  },
  "toc": {
   "base_numbering": 1,
   "nav_menu": {},
   "number_sections": true,
   "sideBar": true,
   "skip_h1_title": false,
   "title_cell": "Table of Contents",
   "title_sidebar": "Contents",
   "toc_cell": false,
   "toc_position": {},
   "toc_section_display": true,
   "toc_window_display": false
  },
  "varInspector": {
   "cols": {
    "lenName": 16,
    "lenType": 16,
    "lenVar": 40
   },
   "kernels_config": {
    "python": {
     "delete_cmd_postfix": "",
     "delete_cmd_prefix": "del ",
     "library": "var_list.py",
     "varRefreshCmd": "print(var_dic_list())"
    },
    "r": {
     "delete_cmd_postfix": ") ",
     "delete_cmd_prefix": "rm(",
     "library": "var_list.r",
     "varRefreshCmd": "cat(var_dic_list()) "
    }
   },
   "types_to_exclude": [
    "module",
    "function",
    "builtin_function_or_method",
    "instance",
    "_Feature"
   ],
   "window_display": false
  }
 },
 "nbformat": 4,
 "nbformat_minor": 5
}
